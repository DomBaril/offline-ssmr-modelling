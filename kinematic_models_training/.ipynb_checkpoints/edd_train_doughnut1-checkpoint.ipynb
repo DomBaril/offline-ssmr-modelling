{
 "cells": [
  {
   "cell_type": "code",
   "execution_count": 49,
   "metadata": {},
   "outputs": [],
   "source": [
    "# import libraries\n",
    "\n",
    "import numpy as np\n",
    "import pandas as pd\n",
    "from scipy.optimize import minimize\n",
    "import matplotlib.pyplot as plt\n",
    "font = {'family' : 'normal',\n",
    "        'weight' : 'bold',\n",
    "        'size'   : 22}\n",
    "\n",
    "plt.rc('font', **font)\n",
    "\n",
    "%run ./scripts/util_func.py\n",
    "%run ./scripts/model_func.py"
   ]
  },
  {
   "cell_type": "code",
   "execution_count": 50,
   "metadata": {},
   "outputs": [
    {
     "name": "stdout",
     "output_type": "stream",
     "text": [
      "[[ 0.00000000e+00  2.00000000e+00  1.90564990e-03  6.57618046e-04\n",
      "   7.89723646e-01]\n",
      " [ 4.63672320e-02  3.00000000e+00  4.82946634e-04 -3.39448452e-05\n",
      "   7.89840095e-01]\n",
      " [ 9.66886400e-02  4.00000000e+00  4.24474478e-04 -4.95791435e-04\n",
      "   7.89964715e-01]\n",
      " ...\n",
      " [ 8.71247166e+02  8.71800000e+03  3.89616919e+00  5.62076807e+00\n",
      "  -2.41419225e+00]\n",
      " [ 8.71299086e+02  8.71900000e+03  3.89392924e+00  5.62077951e+00\n",
      "  -2.41430764e+00]\n",
      " [ 8.71349671e+02  8.71900000e+03  3.89392924e+00  5.62077951e+00\n",
      "  -2.41430764e+00]]\n"
     ]
    }
   ],
   "source": [
    "# import arrays\n",
    "\n",
    "icp_states = np.load('data/icp_states.npy') # [time, icp_index, icp_x, icp_y, icp_yaw]\n",
    "wheel_vels = np.load('data/wheel_vels.npy') # [time, icp_index, vel_l, vel_r]\n",
    "\n",
    "print(icp_states)"
   ]
  },
  {
   "cell_type": "code",
   "execution_count": null,
   "metadata": {},
   "outputs": [
    {
     "name": "stdout",
     "output_type": "stream",
     "text": [
      "initial error :  26800366.611725703\n"
     ]
    }
   ],
   "source": [
    "# Optimize icr params for entire trajectory\n",
    "\n",
    "# params from crv\n",
    "r = 0.3 # wheel radius : meters\n",
    "alpha_l = 0.81 # left side friction loss\n",
    "alpha_r = 0.84 # right side friction loss\n",
    "x_icr = -2.71 # vehicle x_icr\n",
    "y_icr_l = 3.0 # left wheels icr in y coordinates\n",
    "y_icr_r = -3.85 # right wheels icr in y coordinates\n",
    "k = np.array([alpha_l, alpha_r, x_icr, y_icr_l, y_icr_r])\n",
    "# k = np.array([-1.96629809e-08, -1.47389374e-08,  9.16716929e-01,  5.19340378e+00,\n",
    "#        -1.07375266e+01])\n",
    "\n",
    "def compute_err_traj(k):\n",
    "    err = 0\n",
    "    edd_pose = icp_states[0, 2:]\n",
    "    vel_count = 0\n",
    "    icp_disp = 0\n",
    "    \n",
    "    propa_mat = np.array([[np.sin(icp_states[0,4]), 0.0, 0.0], \n",
    "                      [0.0, np.cos(icp_states[0,4]), 0.0], [0.0, 0.0, 1.0]])\n",
    "    \n",
    "    for i in range(icp_states.shape[0] - 1):\n",
    "        dt = icp_states[i+1, 0] - icp_states[i, 0]\n",
    "        vel_count += 1\n",
    "        icp_disp += comp_disp(icp_states[i+1, 2:3], icp_states[i, 2:3])\n",
    "        \n",
    "        propa_mat[0,0] = np.sin(edd_pose[2])\n",
    "        propa_mat[1,1] = np.cos(edd_pose[2])\n",
    "        edd_pose += propa_mat @ icr_diff_drive(wheel_vels[i, 2:], k) * dt\n",
    "        \n",
    "        if icp_disp >= 2.0:\n",
    "            err += disp_err(edd_pose, icp_states[i+1, 2:])\n",
    "            \n",
    "            icp_disp = 0\n",
    "            edd_pose = icp_states[i+1, 2:]\n",
    "            vel_count = 0\n",
    "\n",
    "    return err\n",
    "\n",
    "print('initial error : ', compute_err_traj(k))\n",
    "\n",
    "res = minimize(compute_err_traj, k, method='nelder-mead')\n",
    "print(res)\n",
    "\n"
   ]
  },
  {
   "cell_type": "code",
   "execution_count": null,
   "metadata": {},
   "outputs": [],
   "source": [
    "# Optimize icr params for entire trajectory\n",
    "\n",
    "# params from crv\n",
    "r = 0.3 # wheel radius : meters\n",
    "alpha_l = 0.81 # left side friction loss\n",
    "alpha_r = 0.84 # right side friction loss\n",
    "x_icr = -2.71 # vehicle x_icr\n",
    "y_icr_l = 3.0 # left wheels icr in y coordinates\n",
    "y_icr_r = -3.85 # right wheels icr in y coordinates\n",
    "k = np.array([alpha_l, alpha_r, x_icr, y_icr_l, y_icr_r])\n",
    "# k = np.array([-1.96629809e-08, -1.47389374e-08,  9.16716929e-01,  5.19340378e+00,\n",
    "#        -1.07375266e+01])\n",
    "\n",
    "def compute_err_seg(k):\n",
    "    index = index_start\n",
    "    while index <= index_end:\n",
    "        dt = icp_states[i+1, 0] - icp_states[index, 0]\n",
    "        propa_mat[0,0] = np.sin(edd_pose[2])\n",
    "        propa_mat[1,1] = np.cos(edd_pose[2])\n",
    "        edd_pose += propa_mat @ icr_diff_drive(wheel_vels[index, 2:], k) * dt\n",
    "        \n",
    "        index += 1\n",
    "    \n",
    "    err = disp_err(edd_pose, icp_states[index+1, 2:])\n",
    "    return err\n",
    "\n",
    "err = 0\n",
    "edd_pose = icp_states[0, 2:]\n",
    "vel_count = 0\n",
    "icp_disp = 0\n",
    "index_start = 0\n",
    "\n",
    "propa_mat = np.array([[np.sin(icp_states[0,4]), 0.0, 0.0], \n",
    "                      [0.0, np.cos(icp_states[0,4]), 0.0], [0.0, 0.0, 1.0]])\n",
    "    \n",
    "for i in range(icp_states.shape[0] - 1):\n",
    "    \n",
    "    icp_disp += comp_disp(icp_states[i+1, 2:3], icp_states[i, 2:3])\n",
    "    \n",
    "    if icp_disp >= 2.0:\n",
    "        index_end = i\n",
    "        res_sec = minimize(compute_err_seg, k, method='nelder-mead')\n",
    "        print(res_sec.x)\n",
    "        index_start = i\n",
    "        icp_disp = 0\n",
    "    "
   ]
  }
 ],
 "metadata": {
  "kernelspec": {
   "display_name": "Python 3",
   "language": "python",
   "name": "python3"
  },
  "language_info": {
   "codemirror_mode": {
    "name": "ipython",
    "version": 3
   },
   "file_extension": ".py",
   "mimetype": "text/x-python",
   "name": "python",
   "nbconvert_exporter": "python",
   "pygments_lexer": "ipython3",
   "version": "3.9.0"
  }
 },
 "nbformat": 4,
 "nbformat_minor": 4
}
