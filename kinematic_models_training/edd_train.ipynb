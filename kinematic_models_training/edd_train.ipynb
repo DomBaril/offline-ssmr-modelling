{
 "cells": [
  {
   "cell_type": "code",
   "execution_count": 20,
   "metadata": {},
   "outputs": [],
   "source": [
    "# import libraries\n",
    "\n",
    "import numpy as np\n",
    "import pandas as pd\n",
    "from scipy.optimize import minimize\n",
    "import matplotlib.pyplot as plt\n",
    "font = {'family' : 'normal',\n",
    "        'weight' : 'bold',\n",
    "        'size'   : 22}\n",
    "\n",
    "plt.rc('font', **font)\n",
    "\n",
    "%run ./scripts/util_func.py\n",
    "%run ./scripts/model_func.py"
   ]
  },
  {
   "cell_type": "code",
   "execution_count": 21,
   "metadata": {},
   "outputs": [
    {
     "name": "stdout",
     "output_type": "stream",
     "text": [
      "[[ 0.00000000e+00  2.00000000e+00  1.90564990e-03  6.57618046e-04\n",
      "   7.89723646e-01]\n",
      " [ 4.63672320e-02  3.00000000e+00  4.82946634e-04 -3.39448452e-05\n",
      "   7.89840095e-01]\n",
      " [ 9.66886400e-02  4.00000000e+00  4.24474478e-04 -4.95791435e-04\n",
      "   7.89964715e-01]\n",
      " ...\n",
      " [ 8.71247166e+02  8.71800000e+03  3.89616919e+00  5.62076807e+00\n",
      "  -2.41419225e+00]\n",
      " [ 8.71299086e+02  8.71900000e+03  3.89392924e+00  5.62077951e+00\n",
      "  -2.41430764e+00]\n",
      " [ 8.71349671e+02  8.71900000e+03  3.89392924e+00  5.62077951e+00\n",
      "  -2.41430764e+00]]\n"
     ]
    }
   ],
   "source": [
    "# import arrays\n",
    "\n",
    "icp_states = np.load('data/icp_states.npy') # [time, icp_index, icp_x, icp_y, icp_yaw]\n",
    "wheel_vels = np.load('data/wheel_vels.npy') # [time, icp_index, vel_l, vel_r]\n",
    "\n",
    "print(icp_states)"
   ]
  },
  {
   "cell_type": "code",
   "execution_count": 22,
   "metadata": {},
   "outputs": [
    {
     "name": "stdout",
     "output_type": "stream",
     "text": [
      "initial error :  3733.844355504954\n",
      " final_simplex: (array([[ 0.62338352,  0.65553787, -0.85653332,  2.75210003, -2.7313849 ],\n",
      "       [ 0.62337872,  0.65553285, -0.85658455,  2.75214948, -2.73129336],\n",
      "       [ 0.62336696,  0.65552048, -0.85653882,  2.75202438, -2.73131496],\n",
      "       [ 0.62337155,  0.65552534, -0.85655504,  2.75207356, -2.73130635],\n",
      "       [ 0.62337277,  0.65552662, -0.85654892,  2.75207324, -2.73131739],\n",
      "       [ 0.62337308,  0.65552696, -0.85655252,  2.75208071, -2.73131271]]), array([2814.63058429, 2814.63058562, 2814.63058721, 2814.63058795,\n",
      "       2814.63058841, 2814.63058876]))\n",
      "           fun: 2814.630584289276\n",
      "       message: 'Optimization terminated successfully.'\n",
      "          nfev: 731\n",
      "           nit: 452\n",
      "        status: 0\n",
      "       success: True\n",
      "             x: array([ 0.62338352,  0.65553787, -0.85653332,  2.75210003, -2.7313849 ])\n"
     ]
    }
   ],
   "source": [
    "# Optimize icr params for entire trajectory\n",
    "\n",
    "# params from crv\n",
    "r = 0.3 # wheel radius : meters\n",
    "alpha_l = 0.81 # left side friction loss\n",
    "alpha_r = 0.84 # right side friction loss\n",
    "x_icr = -2.71 # vehicle x_icr\n",
    "y_icr_l = 3.0 # left wheels icr in y coordinates\n",
    "y_icr_r = -3.85 # right wheels icr in y coordinates\n",
    "k = np.array([alpha_l, alpha_r, x_icr, y_icr_l, y_icr_r])\n",
    "# k = np.array([1.0, 1.0,  1.0, 1.0, -1.0])\n",
    "\n",
    "def compute_err_traj(k):\n",
    "    err = 0\n",
    "    edd_pose = icp_states[0, 2:]\n",
    "    vel_count = 0\n",
    "    icp_disp = 0\n",
    "    \n",
    "#     propa_mat = np.array([[np.sin(icp_states[0,4]), 0.0, 0.0], \n",
    "#                       [0.0, np.cos(icp_states[0,4]), 0.0], [0.0, 0.0, 1.0]])\n",
    "    propa_cos = np.cos(icp_states[0,4])\n",
    "    propa_sin = np.sin(icp_states[0,4])\n",
    "    propa_mat = np.array([[propa_cos, -propa_sin, 0.0], \n",
    "                      [propa_sin, propa_cos, 0.0], [0.0, 0.0, 1.0]])\n",
    "    \n",
    "    for i in range(icp_states.shape[0] - 1):\n",
    "        \n",
    "        dt = icp_states[i+1, 0] - icp_states[i, 0]\n",
    "        vel_count = vel_count + 1\n",
    "        icp_disp = icp_disp + comp_disp(icp_states[i+1, 2:3], icp_states[i, 2:3])\n",
    "        \n",
    "        propa_mat = up_propa_mat(propa_mat, edd_pose[2])\n",
    "        \n",
    "        edd_pose = edd_pose + propa_mat @ icr_diff_drive(wheel_vels[i, 2:], k) * dt\n",
    "        edd_pose[2] = wrap2pi(edd_pose[2])\n",
    "        \n",
    "        if icp_disp >= 2.0:\n",
    "            err = err + disp_err(edd_pose, icp_states[i+1, 2:])\n",
    "            icp_disp = 0\n",
    "            edd_pose = icp_states[i+1, 2:]\n",
    "            vel_count = 0\n",
    "    return err\n",
    "\n",
    "print('initial error : ', compute_err_traj(k))\n",
    "\n",
    "res = minimize(compute_err_traj, k, method='nelder-mead')\n",
    "print(res)\n",
    "\n"
   ]
  },
  {
   "cell_type": "code",
   "execution_count": 23,
   "metadata": {},
   "outputs": [
    {
     "ename": "UnboundLocalError",
     "evalue": "local variable 'propa_mat' referenced before assignment",
     "output_type": "error",
     "traceback": [
      "\u001b[0;31m---------------------------------------------------------------------------\u001b[0m",
      "\u001b[0;31mUnboundLocalError\u001b[0m                         Traceback (most recent call last)",
      "\u001b[0;32m<ipython-input-23-1a0948de578b>\u001b[0m in \u001b[0;36m<module>\u001b[0;34m\u001b[0m\n\u001b[1;32m     41\u001b[0m     \u001b[0;32mif\u001b[0m \u001b[0micp_disp\u001b[0m \u001b[0;34m>=\u001b[0m \u001b[0;36m2.0\u001b[0m\u001b[0;34m:\u001b[0m\u001b[0;34m\u001b[0m\u001b[0;34m\u001b[0m\u001b[0m\n\u001b[1;32m     42\u001b[0m         \u001b[0mindex_end\u001b[0m \u001b[0;34m=\u001b[0m \u001b[0mi\u001b[0m\u001b[0;34m\u001b[0m\u001b[0;34m\u001b[0m\u001b[0m\n\u001b[0;32m---> 43\u001b[0;31m         \u001b[0mres_sec\u001b[0m \u001b[0;34m=\u001b[0m \u001b[0mminimize\u001b[0m\u001b[0;34m(\u001b[0m\u001b[0mcompute_err_seg\u001b[0m\u001b[0;34m,\u001b[0m \u001b[0mk\u001b[0m\u001b[0;34m,\u001b[0m \u001b[0mmethod\u001b[0m\u001b[0;34m=\u001b[0m\u001b[0;34m'nelder-mead'\u001b[0m\u001b[0;34m)\u001b[0m\u001b[0;34m\u001b[0m\u001b[0;34m\u001b[0m\u001b[0m\n\u001b[0m\u001b[1;32m     44\u001b[0m         \u001b[0mk_arr\u001b[0m\u001b[0;34m.\u001b[0m\u001b[0mappend\u001b[0m\u001b[0;34m(\u001b[0m\u001b[0mres_sec\u001b[0m\u001b[0;34m.\u001b[0m\u001b[0mx\u001b[0m\u001b[0;34m)\u001b[0m\u001b[0;34m\u001b[0m\u001b[0;34m\u001b[0m\u001b[0m\n\u001b[1;32m     45\u001b[0m         \u001b[0mindex_start\u001b[0m \u001b[0;34m=\u001b[0m \u001b[0mi\u001b[0m\u001b[0;34m\u001b[0m\u001b[0;34m\u001b[0m\u001b[0m\n",
      "\u001b[0;32m~/miniconda3/envs/kinematic_model_training/lib/python3.9/site-packages/scipy/optimize/_minimize.py\u001b[0m in \u001b[0;36mminimize\u001b[0;34m(fun, x0, args, method, jac, hess, hessp, bounds, constraints, tol, callback, options)\u001b[0m\n\u001b[1;32m    604\u001b[0m \u001b[0;34m\u001b[0m\u001b[0m\n\u001b[1;32m    605\u001b[0m     \u001b[0;32mif\u001b[0m \u001b[0mmeth\u001b[0m \u001b[0;34m==\u001b[0m \u001b[0;34m'nelder-mead'\u001b[0m\u001b[0;34m:\u001b[0m\u001b[0;34m\u001b[0m\u001b[0;34m\u001b[0m\u001b[0m\n\u001b[0;32m--> 606\u001b[0;31m         \u001b[0;32mreturn\u001b[0m \u001b[0m_minimize_neldermead\u001b[0m\u001b[0;34m(\u001b[0m\u001b[0mfun\u001b[0m\u001b[0;34m,\u001b[0m \u001b[0mx0\u001b[0m\u001b[0;34m,\u001b[0m \u001b[0margs\u001b[0m\u001b[0;34m,\u001b[0m \u001b[0mcallback\u001b[0m\u001b[0;34m,\u001b[0m \u001b[0;34m**\u001b[0m\u001b[0moptions\u001b[0m\u001b[0;34m)\u001b[0m\u001b[0;34m\u001b[0m\u001b[0;34m\u001b[0m\u001b[0m\n\u001b[0m\u001b[1;32m    607\u001b[0m     \u001b[0;32melif\u001b[0m \u001b[0mmeth\u001b[0m \u001b[0;34m==\u001b[0m \u001b[0;34m'powell'\u001b[0m\u001b[0;34m:\u001b[0m\u001b[0;34m\u001b[0m\u001b[0;34m\u001b[0m\u001b[0m\n\u001b[1;32m    608\u001b[0m         \u001b[0;32mreturn\u001b[0m \u001b[0m_minimize_powell\u001b[0m\u001b[0;34m(\u001b[0m\u001b[0mfun\u001b[0m\u001b[0;34m,\u001b[0m \u001b[0mx0\u001b[0m\u001b[0;34m,\u001b[0m \u001b[0margs\u001b[0m\u001b[0;34m,\u001b[0m \u001b[0mcallback\u001b[0m\u001b[0;34m,\u001b[0m \u001b[0mbounds\u001b[0m\u001b[0;34m,\u001b[0m \u001b[0;34m**\u001b[0m\u001b[0moptions\u001b[0m\u001b[0;34m)\u001b[0m\u001b[0;34m\u001b[0m\u001b[0;34m\u001b[0m\u001b[0m\n",
      "\u001b[0;32m~/miniconda3/envs/kinematic_model_training/lib/python3.9/site-packages/scipy/optimize/optimize.py\u001b[0m in \u001b[0;36m_minimize_neldermead\u001b[0;34m(func, x0, args, callback, maxiter, maxfev, disp, return_all, initial_simplex, xatol, fatol, adaptive, **unknown_options)\u001b[0m\n\u001b[1;32m    687\u001b[0m \u001b[0;34m\u001b[0m\u001b[0m\n\u001b[1;32m    688\u001b[0m     \u001b[0;32mfor\u001b[0m \u001b[0mk\u001b[0m \u001b[0;32min\u001b[0m \u001b[0mrange\u001b[0m\u001b[0;34m(\u001b[0m\u001b[0mN\u001b[0m \u001b[0;34m+\u001b[0m \u001b[0;36m1\u001b[0m\u001b[0;34m)\u001b[0m\u001b[0;34m:\u001b[0m\u001b[0;34m\u001b[0m\u001b[0;34m\u001b[0m\u001b[0m\n\u001b[0;32m--> 689\u001b[0;31m         \u001b[0mfsim\u001b[0m\u001b[0;34m[\u001b[0m\u001b[0mk\u001b[0m\u001b[0;34m]\u001b[0m \u001b[0;34m=\u001b[0m \u001b[0mfunc\u001b[0m\u001b[0;34m(\u001b[0m\u001b[0msim\u001b[0m\u001b[0;34m[\u001b[0m\u001b[0mk\u001b[0m\u001b[0;34m]\u001b[0m\u001b[0;34m)\u001b[0m\u001b[0;34m\u001b[0m\u001b[0;34m\u001b[0m\u001b[0m\n\u001b[0m\u001b[1;32m    690\u001b[0m \u001b[0;34m\u001b[0m\u001b[0m\n\u001b[1;32m    691\u001b[0m     \u001b[0mind\u001b[0m \u001b[0;34m=\u001b[0m \u001b[0mnp\u001b[0m\u001b[0;34m.\u001b[0m\u001b[0margsort\u001b[0m\u001b[0;34m(\u001b[0m\u001b[0mfsim\u001b[0m\u001b[0;34m)\u001b[0m\u001b[0;34m\u001b[0m\u001b[0;34m\u001b[0m\u001b[0m\n",
      "\u001b[0;32m~/miniconda3/envs/kinematic_model_training/lib/python3.9/site-packages/scipy/optimize/optimize.py\u001b[0m in \u001b[0;36mfunction_wrapper\u001b[0;34m(*wrapper_args)\u001b[0m\n\u001b[1;32m    425\u001b[0m     \u001b[0;32mdef\u001b[0m \u001b[0mfunction_wrapper\u001b[0m\u001b[0;34m(\u001b[0m\u001b[0;34m*\u001b[0m\u001b[0mwrapper_args\u001b[0m\u001b[0;34m)\u001b[0m\u001b[0;34m:\u001b[0m\u001b[0;34m\u001b[0m\u001b[0;34m\u001b[0m\u001b[0m\n\u001b[1;32m    426\u001b[0m         \u001b[0mncalls\u001b[0m\u001b[0;34m[\u001b[0m\u001b[0;36m0\u001b[0m\u001b[0;34m]\u001b[0m \u001b[0;34m+=\u001b[0m \u001b[0;36m1\u001b[0m\u001b[0;34m\u001b[0m\u001b[0;34m\u001b[0m\u001b[0m\n\u001b[0;32m--> 427\u001b[0;31m         \u001b[0;32mreturn\u001b[0m \u001b[0mfunction\u001b[0m\u001b[0;34m(\u001b[0m\u001b[0;34m*\u001b[0m\u001b[0;34m(\u001b[0m\u001b[0mwrapper_args\u001b[0m \u001b[0;34m+\u001b[0m \u001b[0margs\u001b[0m\u001b[0;34m)\u001b[0m\u001b[0;34m)\u001b[0m\u001b[0;34m\u001b[0m\u001b[0;34m\u001b[0m\u001b[0m\n\u001b[0m\u001b[1;32m    428\u001b[0m \u001b[0;34m\u001b[0m\u001b[0m\n\u001b[1;32m    429\u001b[0m     \u001b[0;32mreturn\u001b[0m \u001b[0mncalls\u001b[0m\u001b[0;34m,\u001b[0m \u001b[0mfunction_wrapper\u001b[0m\u001b[0;34m\u001b[0m\u001b[0;34m\u001b[0m\u001b[0m\n",
      "\u001b[0;32m<ipython-input-23-1a0948de578b>\u001b[0m in \u001b[0;36mcompute_err_seg\u001b[0;34m(k)\u001b[0m\n\u001b[1;32m     16\u001b[0m     \u001b[0;32mwhile\u001b[0m \u001b[0mindex\u001b[0m \u001b[0;34m<=\u001b[0m \u001b[0mindex_end\u001b[0m\u001b[0;34m:\u001b[0m\u001b[0;34m\u001b[0m\u001b[0;34m\u001b[0m\u001b[0m\n\u001b[1;32m     17\u001b[0m         \u001b[0mdt\u001b[0m \u001b[0;34m=\u001b[0m \u001b[0micp_states\u001b[0m\u001b[0;34m[\u001b[0m\u001b[0mi\u001b[0m\u001b[0;34m+\u001b[0m\u001b[0;36m1\u001b[0m\u001b[0;34m,\u001b[0m \u001b[0;36m0\u001b[0m\u001b[0;34m]\u001b[0m \u001b[0;34m-\u001b[0m \u001b[0micp_states\u001b[0m\u001b[0;34m[\u001b[0m\u001b[0mindex\u001b[0m\u001b[0;34m,\u001b[0m \u001b[0;36m0\u001b[0m\u001b[0;34m]\u001b[0m\u001b[0;34m\u001b[0m\u001b[0;34m\u001b[0m\u001b[0m\n\u001b[0;32m---> 18\u001b[0;31m         \u001b[0mpropa_mat\u001b[0m \u001b[0;34m=\u001b[0m \u001b[0mup_propa_mat\u001b[0m\u001b[0;34m(\u001b[0m\u001b[0mpropa_mat\u001b[0m\u001b[0;34m,\u001b[0m \u001b[0medd_pose\u001b[0m\u001b[0;34m[\u001b[0m\u001b[0;36m2\u001b[0m\u001b[0;34m]\u001b[0m\u001b[0;34m)\u001b[0m\u001b[0;34m\u001b[0m\u001b[0;34m\u001b[0m\u001b[0m\n\u001b[0m\u001b[1;32m     19\u001b[0m         \u001b[0medd_pose\u001b[0m \u001b[0;34m=\u001b[0m \u001b[0medd_pose\u001b[0m \u001b[0;34m+\u001b[0m \u001b[0mpropa_mat\u001b[0m \u001b[0;34m@\u001b[0m \u001b[0micr_diff_drive\u001b[0m\u001b[0;34m(\u001b[0m\u001b[0mwheel_vels\u001b[0m\u001b[0;34m[\u001b[0m\u001b[0mindex\u001b[0m\u001b[0;34m,\u001b[0m \u001b[0;36m2\u001b[0m\u001b[0;34m:\u001b[0m\u001b[0;34m]\u001b[0m\u001b[0;34m,\u001b[0m \u001b[0mk\u001b[0m\u001b[0;34m)\u001b[0m \u001b[0;34m*\u001b[0m \u001b[0mdt\u001b[0m\u001b[0;34m\u001b[0m\u001b[0;34m\u001b[0m\u001b[0m\n\u001b[1;32m     20\u001b[0m \u001b[0;34m\u001b[0m\u001b[0m\n",
      "\u001b[0;31mUnboundLocalError\u001b[0m: local variable 'propa_mat' referenced before assignment"
     ]
    }
   ],
   "source": [
    "# Optimize icr params for entire trajectory\n",
    "\n",
    "# params from crv\n",
    "r = 0.3 # wheel radius : meters\n",
    "alpha_l = 0.81 # left side friction loss\n",
    "alpha_r = 0.84 # right side friction loss\n",
    "x_icr = -2.71 # vehicle x_icr\n",
    "y_icr_l = 3.0 # left wheels icr in y coordinates\n",
    "y_icr_r = -3.85 # right wheels icr in y coordinates\n",
    "k = np.array([alpha_l, alpha_r, x_icr, y_icr_l, y_icr_r])\n",
    "# k = np.array([-1.96629809e-08, -1.47389374e-08,  9.16716929e-01,  5.19340378e+00,\n",
    "#        -1.07375266e+01])\n",
    "\n",
    "def compute_err_seg(k):\n",
    "    index = index_start\n",
    "    while index <= index_end:\n",
    "        dt = icp_states[i+1, 0] - icp_states[index, 0]\n",
    "        propa_mat = up_propa_mat(propa_mat, edd_pose[2])\n",
    "        edd_pose = edd_pose + propa_mat @ icr_diff_drive(wheel_vels[index, 2:], k) * dt\n",
    "        \n",
    "        index = index + 1\n",
    "    \n",
    "    err = disp_err(edd_pose, icp_states[index+1, 2:])\n",
    "    return err\n",
    "\n",
    "err = 0\n",
    "edd_pose = icp_states[0, 2:]\n",
    "vel_count = 0\n",
    "icp_disp = 0\n",
    "index_start = 0\n",
    "\n",
    "k_arr = []\n",
    "\n",
    "propa_mat = np.array([[np.sin(icp_states[0,4]), 0.0, 0.0], \n",
    "                      [0.0, np.cos(icp_states[0,4]), 0.0], [0.0, 0.0, 1.0]])\n",
    "    \n",
    "for i in range(icp_states.shape[0] - 1):\n",
    "    \n",
    "    icp_disp += comp_disp(icp_states[i+1, 2:3], icp_states[i, 2:3])\n",
    "    \n",
    "    if icp_disp >= 2.0:\n",
    "        index_end = i\n",
    "        res_sec = minimize(compute_err_seg, k, method='nelder-mead')\n",
    "        k_arr.append(res_sec.x)\n",
    "        index_start = i\n",
    "        icp_disp = 0\n",
    "    "
   ]
  },
  {
   "cell_type": "code",
   "execution_count": null,
   "metadata": {},
   "outputs": [],
   "source": []
  }
 ],
 "metadata": {
  "kernelspec": {
   "display_name": "Python 3",
   "language": "python",
   "name": "python3"
  },
  "language_info": {
   "codemirror_mode": {
    "name": "ipython",
    "version": 3
   },
   "file_extension": ".py",
   "mimetype": "text/x-python",
   "name": "python",
   "nbconvert_exporter": "python",
   "pygments_lexer": "ipython3",
   "version": "3.9.0"
  }
 },
 "nbformat": 4,
 "nbformat_minor": 4
}
